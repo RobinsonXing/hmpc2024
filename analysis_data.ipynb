{
 "cells": [
  {
   "cell_type": "code",
   "execution_count": 1,
   "metadata": {},
   "outputs": [],
   "source": [
    "import numpy as np\n",
    "import pandas as pd\n",
    "\n",
    "import seaborn\n",
    "import matplotlib.pyplot as plt\n",
    "\n",
    "import math\n",
    "from typing import Literal\n",
    "from scipy.stats import pearsonr"
   ]
  },
  {
   "cell_type": "code",
   "execution_count": null,
   "metadata": {},
   "outputs": [],
   "source": [
    "class TrajAnalysis():\n",
    "    \"\"\"数据分析\"\"\"\n",
    "    def __init__(self, city: Literal['A', 'B', 'C', 'D']):\n",
    "        self.city = city\n",
    "        self.dataframe = pd.read_csv(self.get_path(self.city), compression='gzip')\n",
    "        self.mask_dataframe = pd.DataFrame()\n",
    "\n",
    "    def get_path(self):\n",
    "        path_dict = {\n",
    "            'A': './dataset/cityA_groundtruthdata.csv.gz',\n",
    "            'B': './dataset/cityB_challengedata.csv.gz',\n",
    "            'C': './dataset/cityC_challengedata.csv.gz',\n",
    "            'D': './dataset/cityD_challengedata.csv.gz'\n",
    "        }\n",
    "        return path_dict.get(self.city, \"Invalid City!\")\n",
    "    \n",
    "    # mask\n",
    "    def mask_users(self, reverse=False):\n",
    "        \"\"\"mask to-predict users and return numpy array\"\"\"\n",
    "        if self.city in ['B', 'C', 'D']:\n",
    "            if not reverse:\n",
    "                df = self.dataframe[self.dataframe['uid'] < len(pd.unique[self.dataframe['uid']]) - 3000]\n",
    "            else:\n",
    "                df = self.dataframe[self.dataframe['uid'] >= len(pd.unique[self.dataframe['uid']]) - 3000]\n",
    "        self.masked_dataframe = df\n",
    "    \n",
    "    def mask_points(self, reverse=False):\n",
    "        \"\"\"mask to-predict data points and return numpy array\"\"\"\n",
    "        if not reverse:\n",
    "            df = self.dataframe[self.dataframe['x'] != 999]\n",
    "        else:\n",
    "            df = self.dataframe[self.dataframe['x'] == 999]\n",
    "        self.masked_dataframe = df\n",
    "\n",
    "    # distance statistics\n",
    "    def euclidean_distance(group, is_sum=True):\n",
    "        distances = np.sqrt(np.diff(group['x'])**2 + np.diff(group['y'])**2)\n",
    "        if is_sum:\n",
    "            return distances.sum()\n",
    "        else:\n",
    "            return distances\n",
    "    \n",
    "    def distance_peruser(self):\n",
    "        dis_pu = self.masked_dataframe.groupby('uid').apply(self.euclidean_distance)\n",
    "        return dis_pu, 'dpu'\n",
    "    \n",
    "    def distance_perstep(self):\n",
    "        for uid, traj in self.mask_dataframe.groupby('uid'):\n",
    "            \n",
    "\n",
    "\n",
    "    # counts statistics\n",
    "    def counts_peruser(self):\n",
    "        counts_pu = self.masked_dataframe.groupby('uid').size()\n",
    "        return counts_pu.to_numpy(), 'cpu'\n",
    "        "
   ]
  }
 ],
 "metadata": {
  "kernelspec": {
   "display_name": "hmpc",
   "language": "python",
   "name": "python3"
  },
  "language_info": {
   "codemirror_mode": {
    "name": "ipython",
    "version": 3
   },
   "file_extension": ".py",
   "mimetype": "text/x-python",
   "name": "python",
   "nbconvert_exporter": "python",
   "pygments_lexer": "ipython3",
   "version": "3.10.14"
  }
 },
 "nbformat": 4,
 "nbformat_minor": 2
}
