{
 "cells": [
  {
   "cell_type": "code",
   "execution_count": null,
   "metadata": {},
   "outputs": [],
   "source": [
    "import json\n",
    "import numpy as np\n",
    "import pandas as pd\n",
    "import matplotlib.pyplot as plt\n",
    "\n",
    "import geobleu"
   ]
  },
  {
   "cell_type": "markdown",
   "metadata": {},
   "source": [
    "# pre-embed"
   ]
  },
  {
   "cell_type": "code",
   "execution_count": null,
   "metadata": {},
   "outputs": [],
   "source": [
    "with open('./validation/scheme1/2024_08_20_15_01_40.json', 'r') as file:\n",
    "    data = json.load(file)\n",
    "\n",
    "generated = data['generated']\n",
    "reference = data[\"reference\"]\n",
    "\n",
    "geobleu_scores = []\n",
    "DTW_scores = []\n",
    "\n",
    "for gen, ref in zip(generated, reference):\n",
    "    geobleu_scores.append(geobleu.calc_geobleu(gen, ref, processes=3))\n",
    "    DTW_scores.append(geobleu.calc_dtw(gen, ref, processes=3))\n",
    "\n",
    "print('average geoblue = {}'.format(sum(geobleu_scores) / len(geobleu_scores)))\n",
    "print('average DTW = {}'.format(sum(DTW_scores) / len(DTW_scores)))"
   ]
  },
  {
   "cell_type": "markdown",
   "metadata": {},
   "source": [
    "# zeroshot"
   ]
  },
  {
   "cell_type": "markdown",
   "metadata": {},
   "source": [
    "# finetune"
   ]
  },
  {
   "cell_type": "markdown",
   "metadata": {},
   "source": [
    "# post-embed"
   ]
  }
 ],
 "metadata": {
  "language_info": {
   "name": "python"
  }
 },
 "nbformat": 4,
 "nbformat_minor": 2
}
