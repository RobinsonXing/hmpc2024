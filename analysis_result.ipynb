{
 "cells": [
  {
   "cell_type": "code",
   "execution_count": 1,
   "metadata": {},
   "outputs": [],
   "source": [
    "import json\n",
    "import numpy as np\n",
    "import pandas as pd\n",
    "\n",
    "import matplotlib.pyplot as plt\n",
    "\n",
    "import geobleu"
   ]
  },
  {
   "cell_type": "markdown",
   "metadata": {},
   "source": [
    "# scheme1"
   ]
  },
  {
   "cell_type": "code",
   "execution_count": null,
   "metadata": {},
   "outputs": [],
   "source": [
    "with open('./validation/scheme1/2024_08_20_15_01_40.json', 'r') as file:\n",
    "    data = json.load(file)\n",
    "\n",
    "generated = data['generated']\n",
    "reference = data[\"reference\"]"
   ]
  },
  {
   "cell_type": "code",
   "execution_count": null,
   "metadata": {},
   "outputs": [],
   "source": [
    "geobleu_scores = []\n",
    "DTW_scores = []\n",
    "\n",
    "for gen, ref in zip(generated, reference):\n",
    "    geobleu_scores.append(geobleu.calc_geobleu(gen, ref, processes=3))\n",
    "    DTW_scores.append(geobleu.calc_dtw(gen, ref, processes=3))\n",
    "\n",
    "geobleu_scores, DTW_scores"
   ]
  },
  {
   "cell_type": "code",
   "execution_count": null,
   "metadata": {},
   "outputs": [],
   "source": [
    "print('average geoblue = {}'.format(geobleu_scores.sum() / len(geobleu_scores)))\n",
    "print('average DTW = {}'.format(DTW_scores.sum() / len(DTW_scores)))"
   ]
  },
  {
   "cell_type": "markdown",
   "metadata": {},
   "source": [
    "# scheme2"
   ]
  },
  {
   "cell_type": "markdown",
   "metadata": {},
   "source": [
    "# scheme3"
   ]
  }
 ],
 "metadata": {
  "kernelspec": {
   "display_name": "hmpc",
   "language": "python",
   "name": "python3"
  },
  "language_info": {
   "codemirror_mode": {
    "name": "ipython",
    "version": 3
   },
   "file_extension": ".py",
   "mimetype": "text/x-python",
   "name": "python",
   "nbconvert_exporter": "python",
   "pygments_lexer": "ipython3",
   "version": "3.10.14"
  }
 },
 "nbformat": 4,
 "nbformat_minor": 2
}
