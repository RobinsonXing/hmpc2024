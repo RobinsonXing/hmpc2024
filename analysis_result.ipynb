{
 "cells": [
  {
   "cell_type": "code",
   "execution_count": 4,
   "metadata": {},
   "outputs": [],
   "source": [
    "import json\n",
    "import numpy as np\n",
    "import pandas as pd\n",
    "import matplotlib.pyplot as plt\n",
    "\n",
    "import geobleu"
   ]
  },
  {
   "cell_type": "code",
   "execution_count": 5,
   "metadata": {},
   "outputs": [],
   "source": [
    "def validation(path):\n",
    "    \n",
    "    with open(path, 'r') as file:\n",
    "        data = json.load(file)\n",
    "\n",
    "    generated = data['generated']\n",
    "    reference = data[\"reference\"]\n",
    "\n",
    "    geobleu_scores = []\n",
    "    DTW_scores = []\n",
    "\n",
    "    for gen, ref in zip(generated, reference):\n",
    "        geobleu_scores.append(geobleu.calc_geobleu(gen, ref, processes=3))\n",
    "        DTW_scores.append(geobleu.calc_dtw(gen, ref, processes=3))\n",
    "\n",
    "    print('average geoblue = {}'.format(sum(geobleu_scores) / len(geobleu_scores)))\n",
    "    print('average DTW = {}'.format(sum(DTW_scores) / len(DTW_scores)))"
   ]
  },
  {
   "cell_type": "markdown",
   "metadata": {},
   "source": [
    "# pre-embed"
   ]
  },
  {
   "cell_type": "code",
   "execution_count": 10,
   "metadata": {},
   "outputs": [
    {
     "name": "stdout",
     "output_type": "stream",
     "text": [
      "average geoblue = 0.33003763964946514\n",
      "average DTW = 36.79848986615575\n"
     ]
    }
   ],
   "source": [
    "# cityA\n",
    "validation('/home/xingtong/Documents/hmpc2024/validation/pre_embed/cityA/2024_09_13_02_35_50.json')"
   ]
  },
  {
   "cell_type": "code",
   "execution_count": 11,
   "metadata": {},
   "outputs": [
    {
     "name": "stdout",
     "output_type": "stream",
     "text": [
      "average geoblue = 0.3106564911316995\n",
      "average DTW = 23.5214452089213\n"
     ]
    }
   ],
   "source": [
    "# cityB\n",
    "validation('/home/xingtong/Documents/hmpc2024/validation/pre_embed/cityB/2024_09_13_02_36_11.json')"
   ]
  },
  {
   "cell_type": "code",
   "execution_count": 12,
   "metadata": {},
   "outputs": [
    {
     "name": "stdout",
     "output_type": "stream",
     "text": [
      "average geoblue = 0.26638077738011207\n",
      "average DTW = 23.119366929393646\n"
     ]
    }
   ],
   "source": [
    "# cityC\n",
    "validation('/home/xingtong/Documents/hmpc2024/validation/pre_embed/cityC/2024_09_13_02_36_38.json')"
   ]
  },
  {
   "cell_type": "code",
   "execution_count": 13,
   "metadata": {},
   "outputs": [
    {
     "name": "stdout",
     "output_type": "stream",
     "text": [
      "average geoblue = 0.3046653712914086\n",
      "average DTW = 39.27056664650506\n"
     ]
    }
   ],
   "source": [
    "# cityD\n",
    "validation('/home/xingtong/Documents/hmpc2024/validation/pre_embed/cityD/2024_09_13_02_36_56.json')"
   ]
  },
  {
   "cell_type": "markdown",
   "metadata": {},
   "source": [
    "# zeroshot"
   ]
  },
  {
   "cell_type": "markdown",
   "metadata": {},
   "source": [
    "# finetune"
   ]
  },
  {
   "cell_type": "markdown",
   "metadata": {},
   "source": [
    "# post-embed"
   ]
  }
 ],
 "metadata": {
  "language_info": {
   "name": "python"
  }
 },
 "nbformat": 4,
 "nbformat_minor": 2
}
