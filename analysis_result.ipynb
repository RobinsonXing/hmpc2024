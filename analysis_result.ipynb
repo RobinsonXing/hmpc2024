{
 "cells": [
  {
   "cell_type": "code",
   "execution_count": 1,
   "metadata": {},
   "outputs": [],
   "source": [
    "import json\n",
    "import numpy as np\n",
    "import pandas as pd\n",
    "\n",
    "import matplotlib.pyplot as plt\n",
    "\n",
    "import geobleu"
   ]
  },
  {
   "cell_type": "markdown",
   "metadata": {},
   "source": [
    "# scheme1"
   ]
  },
  {
   "cell_type": "code",
   "execution_count": null,
   "metadata": {},
   "outputs": [],
   "source": [
    "with open('./validation/scheme1/2024_08_20_15_01_40.json', 'r') as file:\n",
    "    data = json.load(file)\n",
    "\n",
    "generated = data['generated']\n",
    "reference = data[\"reference\"]"
   ]
  },
  {
   "cell_type": "code",
   "execution_count": null,
   "metadata": {},
   "outputs": [],
   "source": [
    "geobleu = []\n",
    "DTW = []\n",
    "\n",
    "for gen, ref in zip(generated, reference):\n",
    "    geobleu.append(geobleu.calc_geobleu(gen, ref, processes=3))\n",
    "    DTW.append(geobleu.calc_dtw(gen, ref, processes=3))\n",
    "\n",
    "geobleu, DTW"
   ]
  },
  {
   "cell_type": "code",
   "execution_count": null,
   "metadata": {},
   "outputs": [],
   "source": [
    "print('average geoblue = {}'.format(geobleu.sum() / len(geobleu)))\n",
    "print('average DTW = {}'.format(DTW.sum() / len(DTW)))"
   ]
  },
  {
   "cell_type": "markdown",
   "metadata": {},
   "source": [
    "# scheme2"
   ]
  },
  {
   "cell_type": "markdown",
   "metadata": {},
   "source": [
    "# scheme3"
   ]
  }
 ],
 "metadata": {
  "kernelspec": {
   "display_name": "hmpc",
   "language": "python",
   "name": "python3"
  },
  "language_info": {
   "codemirror_mode": {
    "name": "ipython",
    "version": 3
   },
   "file_extension": ".py",
   "mimetype": "text/x-python",
   "name": "python",
   "nbconvert_exporter": "python",
   "pygments_lexer": "ipython3",
   "version": "3.10.14"
  }
 },
 "nbformat": 4,
 "nbformat_minor": 2
}
