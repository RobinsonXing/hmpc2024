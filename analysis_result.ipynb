{
 "cells": [
  {
   "cell_type": "code",
   "execution_count": 4,
   "metadata": {},
   "outputs": [],
   "source": [
    "import json\n",
    "import numpy as np\n",
    "import pandas as pd\n",
    "import matplotlib.pyplot as plt\n",
    "\n",
    "import geobleu"
   ]
  },
  {
   "cell_type": "code",
   "execution_count": 5,
   "metadata": {},
   "outputs": [],
   "source": [
    "def validation(path):\n",
    "    \n",
    "    with open(path, 'r') as file:\n",
    "        data = json.load(file)\n",
    "\n",
    "    generated = data['generated']\n",
    "    reference = data[\"reference\"]\n",
    "\n",
    "    geobleu_scores = []\n",
    "    DTW_scores = []\n",
    "\n",
    "    for gen, ref in zip(generated, reference):\n",
    "        geobleu_scores.append(geobleu.calc_geobleu(gen, ref, processes=3))\n",
    "        DTW_scores.append(geobleu.calc_dtw(gen, ref, processes=3))\n",
    "\n",
    "    print('average geoblue = {}'.format(sum(geobleu_scores) / len(geobleu_scores)))\n",
    "    print('average DTW = {}'.format(sum(DTW_scores) / len(DTW_scores)))"
   ]
  },
  {
   "cell_type": "markdown",
   "metadata": {},
   "source": [
    "# pre-embed"
   ]
  },
  {
   "cell_type": "code",
   "execution_count": 14,
   "metadata": {},
   "outputs": [
    {
     "name": "stdout",
     "output_type": "stream",
     "text": [
      "average geoblue = 0.31111708032688035\n",
      "average DTW = 36.26345498498915\n"
     ]
    }
   ],
   "source": [
    "# cityA\n",
    "validation('/home/xingtong/Documents/hmpc2024/validation/pre_embed/cityA/2024_09_13_02_45_23.json')"
   ]
  },
  {
   "cell_type": "code",
   "execution_count": 33,
   "metadata": {},
   "outputs": [
    {
     "name": "stdout",
     "output_type": "stream",
     "text": [
      "average geoblue = 0.30223782837286506\n",
      "average DTW = 30.122577678643818\n"
     ]
    }
   ],
   "source": [
    "# cityA all\n",
    "validation('/home/xingtong/Documents/hmpc2024/validation/pre_embed/cityA/2024_09_13_12_41_41.json')"
   ]
  },
  {
   "cell_type": "code",
   "execution_count": 15,
   "metadata": {},
   "outputs": [
    {
     "name": "stdout",
     "output_type": "stream",
     "text": [
      "average geoblue = 0.29011940753236837\n",
      "average DTW = 23.349912479399947\n"
     ]
    }
   ],
   "source": [
    "# cityB\n",
    "validation('/home/xingtong/Documents/hmpc2024/validation/pre_embed/cityB/2024_09_13_02_45_39.json')"
   ]
  },
  {
   "cell_type": "code",
   "execution_count": 34,
   "metadata": {},
   "outputs": [
    {
     "name": "stdout",
     "output_type": "stream",
     "text": [
      "average geoblue = 0.2850447244972971\n",
      "average DTW = 25.03224543395445\n"
     ]
    }
   ],
   "source": [
    "# cityB all\n",
    "validation('/home/xingtong/Documents/hmpc2024/validation/pre_embed/cityB/2024_09_13_13_13_34.json')"
   ]
  },
  {
   "cell_type": "code",
   "execution_count": 16,
   "metadata": {},
   "outputs": [
    {
     "name": "stdout",
     "output_type": "stream",
     "text": [
      "average geoblue = 0.24731807132441547\n",
      "average DTW = 24.014027762402964\n"
     ]
    }
   ],
   "source": [
    "# cityC\n",
    "validation('/home/xingtong/Documents/hmpc2024/validation/pre_embed/cityC/2024_09_13_02_45_51.json')"
   ]
  },
  {
   "cell_type": "code",
   "execution_count": 35,
   "metadata": {},
   "outputs": [
    {
     "name": "stdout",
     "output_type": "stream",
     "text": [
      "average geoblue = 0.27843006400772063\n",
      "average DTW = 20.370420513272624\n"
     ]
    }
   ],
   "source": [
    "# cityC all\n",
    "validation('/home/xingtong/Documents/hmpc2024/validation/pre_embed/cityC/2024_09_13_13_45_51.json')"
   ]
  },
  {
   "cell_type": "code",
   "execution_count": 17,
   "metadata": {},
   "outputs": [
    {
     "name": "stdout",
     "output_type": "stream",
     "text": [
      "average geoblue = 0.2841242323423509\n",
      "average DTW = 37.7197901975898\n"
     ]
    }
   ],
   "source": [
    "# cityD\n",
    "validation('/home/xingtong/Documents/hmpc2024/validation/pre_embed/cityD/2024_09_13_02_46_02.json')"
   ]
  },
  {
   "cell_type": "code",
   "execution_count": 36,
   "metadata": {},
   "outputs": [
    {
     "name": "stdout",
     "output_type": "stream",
     "text": [
      "average geoblue = 0.2902482598371324\n",
      "average DTW = 40.31279082331656\n"
     ]
    }
   ],
   "source": [
    "# cityD all\n",
    "validation('/home/xingtong/Documents/hmpc2024/validation/pre_embed/cityD/2024_09_13_13_56_05.json')"
   ]
  },
  {
   "cell_type": "markdown",
   "metadata": {},
   "source": [
    "# zeroshot"
   ]
  },
  {
   "cell_type": "code",
   "execution_count": 21,
   "metadata": {},
   "outputs": [
    {
     "name": "stdout",
     "output_type": "stream",
     "text": [
      "average geoblue = 0.3249424898561985\n",
      "average DTW = 38.01011453057969\n"
     ]
    }
   ],
   "source": [
    "# cityA\n",
    "validation('/home/xingtong/Documents/hmpc2024/validation/zeroshot/cityA/2024_09_13_03_07_39.json')"
   ]
  },
  {
   "cell_type": "code",
   "execution_count": 18,
   "metadata": {},
   "outputs": [
    {
     "name": "stdout",
     "output_type": "stream",
     "text": [
      "average geoblue = 0.29492819716949126\n",
      "average DTW = 25.11352053203023\n"
     ]
    }
   ],
   "source": [
    "# cityB\n",
    "validation('/home/xingtong/Documents/hmpc2024/validation/zeroshot/cityB/2024_09_13_02_58_50.json')"
   ]
  },
  {
   "cell_type": "code",
   "execution_count": 19,
   "metadata": {},
   "outputs": [
    {
     "name": "stdout",
     "output_type": "stream",
     "text": [
      "average geoblue = 0.2208123548639954\n",
      "average DTW = 34.556137331940754\n"
     ]
    }
   ],
   "source": [
    "# cityC\n",
    "validation('/home/xingtong/Documents/hmpc2024/validation/zeroshot/cityC/2024_09_13_02_59_10.json')"
   ]
  },
  {
   "cell_type": "code",
   "execution_count": 20,
   "metadata": {},
   "outputs": [
    {
     "name": "stdout",
     "output_type": "stream",
     "text": [
      "average geoblue = 0.2967753006502345\n",
      "average DTW = 39.29796273077137\n"
     ]
    }
   ],
   "source": [
    "# cityD\n",
    "validation('/home/xingtong/Documents/hmpc2024/validation/zeroshot/cityD/2024_09_13_02_59_27.json')"
   ]
  },
  {
   "cell_type": "markdown",
   "metadata": {},
   "source": [
    "# finetune"
   ]
  },
  {
   "cell_type": "code",
   "execution_count": 22,
   "metadata": {},
   "outputs": [
    {
     "name": "stdout",
     "output_type": "stream",
     "text": [
      "average geoblue = 0.2810747586161927\n",
      "average DTW = 23.784492999124936\n"
     ]
    }
   ],
   "source": [
    "# cityB\n",
    "validation('/home/xingtong/Documents/hmpc2024/validation/finetune/cityB/2024_09_13_03_14_03.json')"
   ]
  },
  {
   "cell_type": "code",
   "execution_count": 23,
   "metadata": {},
   "outputs": [
    {
     "name": "stdout",
     "output_type": "stream",
     "text": [
      "average geoblue = 0.23956997794332885\n",
      "average DTW = 24.454826249126974\n"
     ]
    }
   ],
   "source": [
    "# cityC\n",
    "validation('/home/xingtong/Documents/hmpc2024/validation/finetune/cityC/2024_09_13_03_15_25.json')"
   ]
  },
  {
   "cell_type": "code",
   "execution_count": 24,
   "metadata": {},
   "outputs": [
    {
     "name": "stdout",
     "output_type": "stream",
     "text": [
      "average geoblue = 0.27080227058556294\n",
      "average DTW = 40.161259216620344\n"
     ]
    }
   ],
   "source": [
    "# cityD\n",
    "validation('/home/xingtong/Documents/hmpc2024/validation/finetune/cityD/2024_09_13_03_16_36.json')"
   ]
  },
  {
   "cell_type": "markdown",
   "metadata": {},
   "source": [
    "# post-embed"
   ]
  },
  {
   "cell_type": "code",
   "execution_count": 25,
   "metadata": {},
   "outputs": [
    {
     "name": "stdout",
     "output_type": "stream",
     "text": [
      "average geoblue = 0.326575841399132\n",
      "average DTW = 36.964768847688745\n"
     ]
    }
   ],
   "source": [
    "# cityA\n",
    "validation('/home/xingtong/Documents/hmpc2024/validation/post_embed/cityA/2024_09_13_03_31_16.json')"
   ]
  },
  {
   "cell_type": "code",
   "execution_count": 26,
   "metadata": {},
   "outputs": [
    {
     "name": "stdout",
     "output_type": "stream",
     "text": [
      "average geoblue = 0.30949719357418937\n",
      "average DTW = 23.82664243855931\n"
     ]
    }
   ],
   "source": [
    "# cityB\n",
    "validation('/home/xingtong/Documents/hmpc2024/validation/post_embed/cityB/2024_09_13_03_31_35.json')"
   ]
  },
  {
   "cell_type": "code",
   "execution_count": 27,
   "metadata": {},
   "outputs": [
    {
     "name": "stdout",
     "output_type": "stream",
     "text": [
      "average geoblue = 0.2684934356510963\n",
      "average DTW = 23.77328824929521\n"
     ]
    }
   ],
   "source": [
    "# cityC\n",
    "validation('/home/xingtong/Documents/hmpc2024/validation/post_embed/cityC/2024_09_13_03_32_03.json')"
   ]
  },
  {
   "cell_type": "code",
   "execution_count": 28,
   "metadata": {},
   "outputs": [
    {
     "name": "stdout",
     "output_type": "stream",
     "text": [
      "average geoblue = 0.3022453379619765\n",
      "average DTW = 40.0389958886137\n"
     ]
    }
   ],
   "source": [
    "# cityD\n",
    "validation('/home/xingtong/Documents/hmpc2024/validation/post_embed/cityD/2024_09_13_03_32_25.json')"
   ]
  },
  {
   "cell_type": "markdown",
   "metadata": {},
   "source": [
    "# postembedAB-zeroshot"
   ]
  },
  {
   "cell_type": "code",
   "execution_count": 37,
   "metadata": {},
   "outputs": [
    {
     "name": "stdout",
     "output_type": "stream",
     "text": [
      "average geoblue = 0.32641226053814726\n",
      "average DTW = 36.64128397974975\n"
     ]
    }
   ],
   "source": [
    "# cityA\n",
    "validation('/home/xingtong/Documents/hmpc2024/validation/postembedAB/cityA/2024_09_16_14_57_19.json')"
   ]
  },
  {
   "cell_type": "code",
   "execution_count": 38,
   "metadata": {},
   "outputs": [
    {
     "name": "stdout",
     "output_type": "stream",
     "text": [
      "average geoblue = 0.30611577174908494\n",
      "average DTW = 23.580830268039527\n"
     ]
    }
   ],
   "source": [
    "# cityB\n",
    "validation('/home/xingtong/Documents/hmpc2024/validation/postembedAB/cityB/2024_09_16_14_57_48.json')"
   ]
  },
  {
   "cell_type": "code",
   "execution_count": 39,
   "metadata": {},
   "outputs": [
    {
     "name": "stdout",
     "output_type": "stream",
     "text": [
      "average geoblue = 0.24199505490966522\n",
      "average DTW = 27.40451361761328\n"
     ]
    }
   ],
   "source": [
    "# cityC\n",
    "validation('/home/xingtong/Documents/hmpc2024/validation/postembedAB/cityC/2024_09_16_14_58_07.json')"
   ]
  },
  {
   "cell_type": "code",
   "execution_count": 40,
   "metadata": {},
   "outputs": [
    {
     "name": "stdout",
     "output_type": "stream",
     "text": [
      "average geoblue = 0.3008168416802071\n",
      "average DTW = 38.490107468599405\n"
     ]
    }
   ],
   "source": [
    "# cityD\n",
    "validation('/home/xingtong/Documents/hmpc2024/validation/postembedAB/cityD/2024_09_16_14_58_17.json')"
   ]
  },
  {
   "cell_type": "markdown",
   "metadata": {},
   "source": [
    "# postembedAB-finetuneC"
   ]
  },
  {
   "cell_type": "markdown",
   "metadata": {},
   "source": [
    "# postembedAC-zeroshot"
   ]
  },
  {
   "cell_type": "markdown",
   "metadata": {},
   "source": [
    "# postembedAC-finetuneB"
   ]
  }
 ],
 "metadata": {
  "language_info": {
   "name": "python"
  }
 },
 "nbformat": 4,
 "nbformat_minor": 2
}
