{
 "cells": [
  {
   "cell_type": "code",
   "execution_count": 1,
   "metadata": {},
   "outputs": [],
   "source": [
    "import json\n",
    "import numpy as np\n",
    "import pandas as pd\n",
    "\n",
    "import matplotlib.pyplot as plt"
   ]
  },
  {
   "cell_type": "code",
   "execution_count": null,
   "metadata": {},
   "outputs": [],
   "source": [
    "with open('./validation/scheme1/2024_08_20_15_01_40.json', 'r') as file:\n",
    "    data = json.load(file)\n",
    "\n",
    "predicted_trajectories = data['generated']\n",
    "reference_trajectories = data[\"reference\"]"
   ]
  },
  {
   "cell_type": "code",
   "execution_count": null,
   "metadata": {},
   "outputs": [],
   "source": [
    "for pred, ref in zip(predicted_trajectories, reference_trajectories):\n",
    "    score = geobleu_score(pred, ref)\n",
    "    geobleu_scores.append(score)\n",
    "\n",
    "# 打印每条轨迹的 GeoBLEU 分数\n",
    "print(geobleu_scores)"
   ]
  }
 ],
 "metadata": {
  "kernelspec": {
   "display_name": "hmpc",
   "language": "python",
   "name": "python3"
  },
  "language_info": {
   "codemirror_mode": {
    "name": "ipython",
    "version": 3
   },
   "file_extension": ".py",
   "mimetype": "text/x-python",
   "name": "python",
   "nbconvert_exporter": "python",
   "pygments_lexer": "ipython3",
   "version": "3.10.14"
  }
 },
 "nbformat": 4,
 "nbformat_minor": 2
}
