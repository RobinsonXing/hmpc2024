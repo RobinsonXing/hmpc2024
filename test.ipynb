{
 "cells": [
  {
   "cell_type": "code",
   "execution_count": null,
   "metadata": {},
   "outputs": [],
   "source": [
    "import torch\n",
    "from torch.utils.data import DataLoader\n",
    "from dataset import *\n",
    "from model import *"
   ]
  },
  {
   "cell_type": "code",
   "execution_count": null,
   "metadata": {},
   "outputs": [],
   "source": [
    "device = torch.device(f'cuda:{0}')\n",
    "path_arr = [\n",
    "    './dataset/cityA_groundtruthdata.csv.gz',\n",
    "    './dataset/cityB_challengedata.csv.gz',\n",
    "    './dataset/cityC_challengedata.csv.gz',\n",
    "    './dataset/cityD_challengedata.csv.gz'\n",
    "]\n",
    "\n",
    "dataset_test = ValidationSet(path_arr[1], is_100val=True)\n",
    "dataloader_test = DataLoader(dataset_test, batch_size=1, num_workers=2)"
   ]
  },
  {
   "cell_type": "code",
   "execution_count": null,
   "metadata": {},
   "outputs": [],
   "source": [
    "for data in dataloader_test:\n",
    "\n",
    "    data['uid'] = data['uid'].to(device)\n",
    "    data['d'] = data['d'].to(device)\n",
    "    data['t'] = data['t'].to(device)\n",
    "    data['input_x'] = data['input_x'].to(device)\n",
    "    data['input_y'] = data['input_y'].to(device)\n",
    "\n",
    "    origin_mask = (1 <= data['input_x'] <= 200)\n",
    "    origin = torch.cat((\n",
    "        data['uid'][origin_mask].unsqueeze(-1),\n",
    "        data['d'][origin_mask].unsqueeze(-1)-1, \n",
    "        data['t'][origin_mask].unsqueeze(-1)-1, \n",
    "        data['input_x'][origin_mask].unsqueeze(-1)))\n",
    "\n",
    "    break"
   ]
  }
 ],
 "metadata": {
  "kernelspec": {
   "display_name": "d2l",
   "language": "python",
   "name": "python3"
  },
  "language_info": {
   "name": "python",
   "version": "3.10.14"
  }
 },
 "nbformat": 4,
 "nbformat_minor": 2
}
